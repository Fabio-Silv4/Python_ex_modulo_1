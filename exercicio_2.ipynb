{
 "cells": [
  {
   "cell_type": "code",
   "execution_count": null,
   "metadata": {},
   "outputs": [],
   "source": [
    "#2. Faça um programa que leia a validade das informações:\n",
    "#a. Idade: entre 0 e 150;\n",
    "#b. Salário: maior que 0;\n",
    "#c. Sexo: M, F ou Outro;\n",
    "#O programa deve imprimir uma mensagem de erro para cada informação inválida."
   ]
  },
  {
   "cell_type": "code",
   "execution_count": 14,
   "metadata": {},
   "outputs": [
    {
     "name": "stdout",
     "output_type": "stream",
     "text": [
      "Valor incorreto\n",
      "Valor incorreto\n",
      "Informação incorreta\n"
     ]
    }
   ],
   "source": [
    "idade = int(input(\"Digite a sua idade: \"))\n",
    "\n",
    "if idade <= 150: \n",
    "   print (\"Responda a próxima pergunta\")\n",
    "else:\n",
    "   print (\"Valor incorreto\")\n",
    "\n",
    "\n",
    "salario = float(input(\"Digite o seu salário: \"))\n",
    "\n",
    "if salario > 0:\n",
    "    print (\"Responda a próxima pergunta\")\n",
    "else:\n",
    "    print (\"Valor incorreto\")\n",
    "\n",
    "\n",
    "sexo = input(\"Digite o seu sexo: \")\n",
    "\n",
    "if sexo == \"Masculino\":\n",
    "    print (\"Obrigado pelas informações\")\n",
    "elif sexo == \"Feminino\":\n",
    "    print (\"Obrigado pelas informações\")\n",
    "elif sexo == \"Outro\":\n",
    "    print (\"Obrigado pelas informações\")\n",
    "else:\n",
    "    print (\"Informação incorreta\")\n"
   ]
  }
 ],
 "metadata": {
  "interpreter": {
   "hash": "a477b81b163b01d67c1f159746f150373315fd4e2b6ce5011950108c1a0a021e"
  },
  "kernelspec": {
   "display_name": "Python 3.10.2 64-bit",
   "language": "python",
   "name": "python3"
  },
  "language_info": {
   "codemirror_mode": {
    "name": "ipython",
    "version": 3
   },
   "file_extension": ".py",
   "mimetype": "text/x-python",
   "name": "python",
   "nbconvert_exporter": "python",
   "pygments_lexer": "ipython3",
   "version": "3.10.2"
  },
  "orig_nbformat": 4
 },
 "nbformat": 4,
 "nbformat_minor": 2
}
