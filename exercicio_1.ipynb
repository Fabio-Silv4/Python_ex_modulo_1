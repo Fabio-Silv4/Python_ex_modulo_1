{
 "cells": [
  {
   "cell_type": "code",
   "execution_count": null,
   "metadata": {},
   "outputs": [],
   "source": [
    "#1. Faça um programa que peça um valor monetário e diminua-o em 15%. Seu programa deve imprimir a mensagem “O novo valor é [valor]”"
   ]
  },
  {
   "cell_type": "code",
   "execution_count": 2,
   "metadata": {},
   "outputs": [
    {
     "name": "stdout",
     "output_type": "stream",
     "text": [
      "O valor com o desconto de 15% é: 17.0\n"
     ]
    }
   ],
   "source": [
    "valor_total = input (\"Digite o valor total em reais: \")\n",
    "valor_total = float(valor_total)\n",
    "\n",
    "novo_valor = valor_total * 0.85\n",
    "\n",
    "print(\"O valor com o desconto de 15% é:\",novo_valor)"
   ]
  }
 ],
 "metadata": {
  "interpreter": {
   "hash": "66a708319d1f030252f505d2c1f5a591836db4cf096692ab756a6e3ba655fcd8"
  },
  "kernelspec": {
   "display_name": "Python 3.6.1 64-bit",
   "language": "python",
   "name": "python3"
  },
  "language_info": {
   "codemirror_mode": {
    "name": "ipython",
    "version": 3
   },
   "file_extension": ".py",
   "mimetype": "text/x-python",
   "name": "python",
   "nbconvert_exporter": "python",
   "pygments_lexer": "ipython3",
   "version": "3.10.2"
  },
  "orig_nbformat": 4
 },
 "nbformat": 4,
 "nbformat_minor": 2
}
